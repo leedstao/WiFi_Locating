{
 "cells": [
  {
   "cell_type": "markdown",
   "metadata": {},
   "source": [
    "# Location Pining Using Wifi Singal Strength"
   ]
  },
  {
   "cell_type": "markdown",
   "metadata": {},
   "source": [
    "We use the data set from Kaggle database UjiIndoorLoc (https://www.kaggle.com/giantuji/UjiIndoorLoc).\n",
    "\n",
    "The dataset consists of wifi signal strength from 520 access points. They are used as inputs for a model to locate the mobile device in a building complex. The outputs of the model are longitude, latitude, building number and floor number. \n",
    "\n",
    "The code below can be found in Train.py and Validate.py for commandline execution."
   ]
  },
  {
   "cell_type": "markdown",
   "metadata": {},
   "source": [
    "## Imput Necessary Packages"
   ]
  },
  {
   "cell_type": "code",
   "execution_count": 1,
   "metadata": {},
   "outputs": [],
   "source": [
    "import numpy as np\n",
    "import pandas as pd\n",
    "\n",
    "from sklearn.model_selection import train_test_split\n",
    "from sklearn.neighbors import KNeighborsRegressor as KNR\n",
    "from sklearn.linear_model import LinearRegression as LR\n",
    "from sklearn.linear_model import Ridge\n",
    "from sklearn.tree import DecisionTreeClassifier as DTC\n",
    "from sklearn.tree import DecisionTreeRegressor as DTR\n",
    "from sklearn.ensemble import RandomForestClassifier as RFC\n",
    "from sklearn.ensemble import RandomForestRegressor as RFR\n",
    "from sklearn.ensemble import GradientBoostingClassifier as GBC\n",
    "from sklearn.ensemble import GradientBoostingRegressor as GBR\n",
    "from sklearn.ensemble import AdaBoostClassifier as ABC\n",
    "from sklearn.ensemble import AdaBoostRegressor as ABR\n",
    "from xgboost import XGBRegressor as XGR\n",
    "from xgboost import XGBClassifier as XGC\n",
    "from sklearn.neural_network import MLPRegressor as NNR\n",
    "from sklearn.neural_network import MLPClassifier as NNC\n",
    "\n"
   ]
  },
  {
   "cell_type": "markdown",
   "metadata": {},
   "source": [
    "## Load the Data and Analysis"
   ]
  },
  {
   "cell_type": "code",
   "execution_count": 2,
   "metadata": {},
   "outputs": [],
   "source": [
    "df=pd.read_csv('trainingData.csv')"
   ]
  },
  {
   "cell_type": "code",
   "execution_count": 3,
   "metadata": {},
   "outputs": [
    {
     "data": {
      "text/plain": [
       "array([19937.])"
      ]
     },
     "execution_count": 3,
     "metadata": {},
     "output_type": "execute_result"
    }
   ],
   "source": [
    "df.describe().iloc[0].unique()"
   ]
  },
  {
   "cell_type": "code",
   "execution_count": 4,
   "metadata": {},
   "outputs": [
    {
     "data": {
      "text/html": [
       "<div>\n",
       "<style scoped>\n",
       "    .dataframe tbody tr th:only-of-type {\n",
       "        vertical-align: middle;\n",
       "    }\n",
       "\n",
       "    .dataframe tbody tr th {\n",
       "        vertical-align: top;\n",
       "    }\n",
       "\n",
       "    .dataframe thead th {\n",
       "        text-align: right;\n",
       "    }\n",
       "</style>\n",
       "<table border=\"1\" class=\"dataframe\">\n",
       "  <thead>\n",
       "    <tr style=\"text-align: right;\">\n",
       "      <th></th>\n",
       "      <th>WAP001</th>\n",
       "      <th>WAP002</th>\n",
       "      <th>WAP003</th>\n",
       "      <th>WAP004</th>\n",
       "      <th>WAP005</th>\n",
       "      <th>WAP006</th>\n",
       "      <th>WAP007</th>\n",
       "      <th>WAP008</th>\n",
       "      <th>WAP009</th>\n",
       "      <th>WAP010</th>\n",
       "      <th>...</th>\n",
       "      <th>WAP520</th>\n",
       "      <th>LONGITUDE</th>\n",
       "      <th>LATITUDE</th>\n",
       "      <th>FLOOR</th>\n",
       "      <th>BUILDINGID</th>\n",
       "      <th>SPACEID</th>\n",
       "      <th>RELATIVEPOSITION</th>\n",
       "      <th>USERID</th>\n",
       "      <th>PHONEID</th>\n",
       "      <th>TIMESTAMP</th>\n",
       "    </tr>\n",
       "  </thead>\n",
       "  <tbody>\n",
       "    <tr>\n",
       "      <th>count</th>\n",
       "      <td>19937.000000</td>\n",
       "      <td>19937.000000</td>\n",
       "      <td>19937.0</td>\n",
       "      <td>19937.0</td>\n",
       "      <td>19937.000000</td>\n",
       "      <td>19937.000000</td>\n",
       "      <td>19937.000000</td>\n",
       "      <td>19937.000000</td>\n",
       "      <td>19937.000000</td>\n",
       "      <td>19937.000000</td>\n",
       "      <td>...</td>\n",
       "      <td>19937.0</td>\n",
       "      <td>19937.000000</td>\n",
       "      <td>1.993700e+04</td>\n",
       "      <td>19937.000000</td>\n",
       "      <td>19937.000000</td>\n",
       "      <td>19937.000000</td>\n",
       "      <td>19937.000000</td>\n",
       "      <td>19937.000000</td>\n",
       "      <td>19937.000000</td>\n",
       "      <td>1.993700e+04</td>\n",
       "    </tr>\n",
       "    <tr>\n",
       "      <th>mean</th>\n",
       "      <td>99.823644</td>\n",
       "      <td>99.820936</td>\n",
       "      <td>100.0</td>\n",
       "      <td>100.0</td>\n",
       "      <td>99.613733</td>\n",
       "      <td>97.130461</td>\n",
       "      <td>94.733661</td>\n",
       "      <td>93.820234</td>\n",
       "      <td>94.693936</td>\n",
       "      <td>99.163766</td>\n",
       "      <td>...</td>\n",
       "      <td>100.0</td>\n",
       "      <td>-7464.275947</td>\n",
       "      <td>4.864871e+06</td>\n",
       "      <td>1.674575</td>\n",
       "      <td>1.212820</td>\n",
       "      <td>148.429954</td>\n",
       "      <td>1.833024</td>\n",
       "      <td>9.068014</td>\n",
       "      <td>13.021869</td>\n",
       "      <td>1.371421e+09</td>\n",
       "    </tr>\n",
       "    <tr>\n",
       "      <th>std</th>\n",
       "      <td>5.866842</td>\n",
       "      <td>5.798156</td>\n",
       "      <td>0.0</td>\n",
       "      <td>0.0</td>\n",
       "      <td>8.615657</td>\n",
       "      <td>22.931890</td>\n",
       "      <td>30.541335</td>\n",
       "      <td>33.010404</td>\n",
       "      <td>30.305084</td>\n",
       "      <td>12.634045</td>\n",
       "      <td>...</td>\n",
       "      <td>0.0</td>\n",
       "      <td>123.402010</td>\n",
       "      <td>6.693318e+01</td>\n",
       "      <td>1.223078</td>\n",
       "      <td>0.833139</td>\n",
       "      <td>58.342106</td>\n",
       "      <td>0.372964</td>\n",
       "      <td>4.988720</td>\n",
       "      <td>5.362410</td>\n",
       "      <td>5.572054e+05</td>\n",
       "    </tr>\n",
       "    <tr>\n",
       "      <th>min</th>\n",
       "      <td>-97.000000</td>\n",
       "      <td>-90.000000</td>\n",
       "      <td>100.0</td>\n",
       "      <td>100.0</td>\n",
       "      <td>-97.000000</td>\n",
       "      <td>-98.000000</td>\n",
       "      <td>-99.000000</td>\n",
       "      <td>-98.000000</td>\n",
       "      <td>-98.000000</td>\n",
       "      <td>-99.000000</td>\n",
       "      <td>...</td>\n",
       "      <td>100.0</td>\n",
       "      <td>-7691.338400</td>\n",
       "      <td>4.864746e+06</td>\n",
       "      <td>0.000000</td>\n",
       "      <td>0.000000</td>\n",
       "      <td>1.000000</td>\n",
       "      <td>1.000000</td>\n",
       "      <td>1.000000</td>\n",
       "      <td>1.000000</td>\n",
       "      <td>1.369909e+09</td>\n",
       "    </tr>\n",
       "    <tr>\n",
       "      <th>25%</th>\n",
       "      <td>100.000000</td>\n",
       "      <td>100.000000</td>\n",
       "      <td>100.0</td>\n",
       "      <td>100.0</td>\n",
       "      <td>100.000000</td>\n",
       "      <td>100.000000</td>\n",
       "      <td>100.000000</td>\n",
       "      <td>100.000000</td>\n",
       "      <td>100.000000</td>\n",
       "      <td>100.000000</td>\n",
       "      <td>...</td>\n",
       "      <td>100.0</td>\n",
       "      <td>-7594.737000</td>\n",
       "      <td>4.864821e+06</td>\n",
       "      <td>1.000000</td>\n",
       "      <td>0.000000</td>\n",
       "      <td>110.000000</td>\n",
       "      <td>2.000000</td>\n",
       "      <td>5.000000</td>\n",
       "      <td>8.000000</td>\n",
       "      <td>1.371056e+09</td>\n",
       "    </tr>\n",
       "    <tr>\n",
       "      <th>50%</th>\n",
       "      <td>100.000000</td>\n",
       "      <td>100.000000</td>\n",
       "      <td>100.0</td>\n",
       "      <td>100.0</td>\n",
       "      <td>100.000000</td>\n",
       "      <td>100.000000</td>\n",
       "      <td>100.000000</td>\n",
       "      <td>100.000000</td>\n",
       "      <td>100.000000</td>\n",
       "      <td>100.000000</td>\n",
       "      <td>...</td>\n",
       "      <td>100.0</td>\n",
       "      <td>-7423.060900</td>\n",
       "      <td>4.864852e+06</td>\n",
       "      <td>2.000000</td>\n",
       "      <td>1.000000</td>\n",
       "      <td>129.000000</td>\n",
       "      <td>2.000000</td>\n",
       "      <td>11.000000</td>\n",
       "      <td>13.000000</td>\n",
       "      <td>1.371716e+09</td>\n",
       "    </tr>\n",
       "    <tr>\n",
       "      <th>75%</th>\n",
       "      <td>100.000000</td>\n",
       "      <td>100.000000</td>\n",
       "      <td>100.0</td>\n",
       "      <td>100.0</td>\n",
       "      <td>100.000000</td>\n",
       "      <td>100.000000</td>\n",
       "      <td>100.000000</td>\n",
       "      <td>100.000000</td>\n",
       "      <td>100.000000</td>\n",
       "      <td>100.000000</td>\n",
       "      <td>...</td>\n",
       "      <td>100.0</td>\n",
       "      <td>-7359.193000</td>\n",
       "      <td>4.864930e+06</td>\n",
       "      <td>3.000000</td>\n",
       "      <td>2.000000</td>\n",
       "      <td>207.000000</td>\n",
       "      <td>2.000000</td>\n",
       "      <td>13.000000</td>\n",
       "      <td>14.000000</td>\n",
       "      <td>1.371721e+09</td>\n",
       "    </tr>\n",
       "    <tr>\n",
       "      <th>max</th>\n",
       "      <td>100.000000</td>\n",
       "      <td>100.000000</td>\n",
       "      <td>100.0</td>\n",
       "      <td>100.0</td>\n",
       "      <td>100.000000</td>\n",
       "      <td>100.000000</td>\n",
       "      <td>100.000000</td>\n",
       "      <td>100.000000</td>\n",
       "      <td>100.000000</td>\n",
       "      <td>100.000000</td>\n",
       "      <td>...</td>\n",
       "      <td>100.0</td>\n",
       "      <td>-7300.818990</td>\n",
       "      <td>4.865017e+06</td>\n",
       "      <td>4.000000</td>\n",
       "      <td>2.000000</td>\n",
       "      <td>254.000000</td>\n",
       "      <td>2.000000</td>\n",
       "      <td>18.000000</td>\n",
       "      <td>24.000000</td>\n",
       "      <td>1.371738e+09</td>\n",
       "    </tr>\n",
       "  </tbody>\n",
       "</table>\n",
       "<p>8 rows × 529 columns</p>\n",
       "</div>"
      ],
      "text/plain": [
       "             WAP001        WAP002   WAP003   WAP004        WAP005  \\\n",
       "count  19937.000000  19937.000000  19937.0  19937.0  19937.000000   \n",
       "mean      99.823644     99.820936    100.0    100.0     99.613733   \n",
       "std        5.866842      5.798156      0.0      0.0      8.615657   \n",
       "min      -97.000000    -90.000000    100.0    100.0    -97.000000   \n",
       "25%      100.000000    100.000000    100.0    100.0    100.000000   \n",
       "50%      100.000000    100.000000    100.0    100.0    100.000000   \n",
       "75%      100.000000    100.000000    100.0    100.0    100.000000   \n",
       "max      100.000000    100.000000    100.0    100.0    100.000000   \n",
       "\n",
       "             WAP006        WAP007        WAP008        WAP009        WAP010  \\\n",
       "count  19937.000000  19937.000000  19937.000000  19937.000000  19937.000000   \n",
       "mean      97.130461     94.733661     93.820234     94.693936     99.163766   \n",
       "std       22.931890     30.541335     33.010404     30.305084     12.634045   \n",
       "min      -98.000000    -99.000000    -98.000000    -98.000000    -99.000000   \n",
       "25%      100.000000    100.000000    100.000000    100.000000    100.000000   \n",
       "50%      100.000000    100.000000    100.000000    100.000000    100.000000   \n",
       "75%      100.000000    100.000000    100.000000    100.000000    100.000000   \n",
       "max      100.000000    100.000000    100.000000    100.000000    100.000000   \n",
       "\n",
       "       ...   WAP520     LONGITUDE      LATITUDE         FLOOR    BUILDINGID  \\\n",
       "count  ...  19937.0  19937.000000  1.993700e+04  19937.000000  19937.000000   \n",
       "mean   ...    100.0  -7464.275947  4.864871e+06      1.674575      1.212820   \n",
       "std    ...      0.0    123.402010  6.693318e+01      1.223078      0.833139   \n",
       "min    ...    100.0  -7691.338400  4.864746e+06      0.000000      0.000000   \n",
       "25%    ...    100.0  -7594.737000  4.864821e+06      1.000000      0.000000   \n",
       "50%    ...    100.0  -7423.060900  4.864852e+06      2.000000      1.000000   \n",
       "75%    ...    100.0  -7359.193000  4.864930e+06      3.000000      2.000000   \n",
       "max    ...    100.0  -7300.818990  4.865017e+06      4.000000      2.000000   \n",
       "\n",
       "            SPACEID  RELATIVEPOSITION        USERID       PHONEID  \\\n",
       "count  19937.000000      19937.000000  19937.000000  19937.000000   \n",
       "mean     148.429954          1.833024      9.068014     13.021869   \n",
       "std       58.342106          0.372964      4.988720      5.362410   \n",
       "min        1.000000          1.000000      1.000000      1.000000   \n",
       "25%      110.000000          2.000000      5.000000      8.000000   \n",
       "50%      129.000000          2.000000     11.000000     13.000000   \n",
       "75%      207.000000          2.000000     13.000000     14.000000   \n",
       "max      254.000000          2.000000     18.000000     24.000000   \n",
       "\n",
       "          TIMESTAMP  \n",
       "count  1.993700e+04  \n",
       "mean   1.371421e+09  \n",
       "std    5.572054e+05  \n",
       "min    1.369909e+09  \n",
       "25%    1.371056e+09  \n",
       "50%    1.371716e+09  \n",
       "75%    1.371721e+09  \n",
       "max    1.371738e+09  \n",
       "\n",
       "[8 rows x 529 columns]"
      ]
     },
     "execution_count": 4,
     "metadata": {},
     "output_type": "execute_result"
    }
   ],
   "source": [
    "df.describe()"
   ]
  },
  {
   "cell_type": "code",
   "execution_count": 5,
   "metadata": {},
   "outputs": [
    {
     "data": {
      "text/plain": [
       "(933, 6)"
      ]
     },
     "execution_count": 5,
     "metadata": {},
     "output_type": "execute_result"
    }
   ],
   "source": [
    "df_ind=df.groupby(['LONGITUDE','LATITUDE','FLOOR','BUILDINGID','SPACEID']).size().reset_index()\n",
    "df_ind=df_ind.reset_index().drop(0,axis=1)\n",
    "df_ind.shape"
   ]
  },
  {
   "cell_type": "code",
   "execution_count": 6,
   "metadata": {},
   "outputs": [
    {
     "data": {
      "text/plain": [
       "(933,)"
      ]
     },
     "execution_count": 6,
     "metadata": {},
     "output_type": "execute_result"
    }
   ],
   "source": [
    "df.groupby(['LONGITUDE','LATITUDE','FLOOR']).size().shape"
   ]
  },
  {
   "cell_type": "code",
   "execution_count": 7,
   "metadata": {},
   "outputs": [
    {
     "data": {
      "text/plain": [
       "(735,)"
      ]
     },
     "execution_count": 7,
     "metadata": {},
     "output_type": "execute_result"
    }
   ],
   "source": [
    "df.groupby(['BUILDINGID','FLOOR','SPACEID']).size().shape"
   ]
  },
  {
   "cell_type": "markdown",
   "metadata": {},
   "source": [
    "We notice that, the number of combinations of longitude, latitude and floornumber (3D coordinates) is limited to only 933. It is determined by the way data is collected. Realistically, we will build regression models on longitude and latitude, and classification models on building number and floor number.\n"
   ]
  },
  {
   "cell_type": "markdown",
   "metadata": {},
   "source": [
    "One-hot coding on the building number. However we keep the floor number as is since it is an ordinal variable."
   ]
  },
  {
   "cell_type": "code",
   "execution_count": 8,
   "metadata": {},
   "outputs": [],
   "source": [
    "limiter = 0\n",
    "df=pd.get_dummies(df, columns=['BUILDINGID'], prefix='BUILDING')\n",
    "df['BUILDINGID']=df[['BUILDING_0','BUILDING_1','BUILDING_2']].idxmax(axis=1)\n",
    "df['BUILDINGID']=df['BUILDINGID'].apply(lambda x: x[-1])\n",
    "df_X=df.drop(df.columns[-11:], axis=1)\n",
    "for col in df_X.columns:\n",
    "    df_X[col]=df_X[col].apply(lambda x:limiter if x==100 else float(x)/100+1)\n",
    "df_y=df[['LONGITUDE','LATITUDE','FLOOR','BUILDING_0','BUILDING_1','BUILDING_2','BUILDINGID']]\n"
   ]
  },
  {
   "cell_type": "markdown",
   "metadata": {},
   "source": [
    "We also transform the signal strength data. Since no signal can be treated as very long distance from the AP, we map it to -1, when other values are shifted to positive side. The function also scales the data to [-1,1]"
   ]
  },
  {
   "cell_type": "markdown",
   "metadata": {},
   "source": [
    "## Prepare for training"
   ]
  },
  {
   "cell_type": "code",
   "execution_count": 10,
   "metadata": {},
   "outputs": [],
   "source": [
    "X_train, X_test, y_train, y_test = train_test_split(df_X, df_y, test_size=0.25, random_state=25)\n",
    "y_test=y_test.reset_index()\n",
    "y_train=y_train.reset_index()\n"
   ]
  },
  {
   "cell_type": "markdown",
   "metadata": {},
   "source": [
    "The dataset also provide a validation set. However, when we investigate, the validation data has greater range of longitude and latitude. So we will use part of the first set as test set to better tune the data. The out of range cases are partially addressed by models that can extrapolate. "
   ]
  },
  {
   "cell_type": "code",
   "execution_count": 11,
   "metadata": {},
   "outputs": [],
   "source": [
    "df_val=pd.read_csv('ValidationData.csv')\n",
    "df_val=pd.get_dummies(df_val, columns=['BUILDINGID'], prefix='BUILDING')\n",
    "df_val['BUILDINGID']=df_val[['BUILDING_0','BUILDING_1','BUILDING_2']].idxmax(axis=1)\n",
    "df_val['BUILDINGID']=df_val['BUILDINGID'].apply(lambda x: x[-1])\n",
    "df_val_X=df_val.drop(df_val.columns[-11:], axis=1)\n",
    "for col in df_val_X.columns:\n",
    "    df_val_X[col]=df_val_X[col].apply(lambda x:limiter if x==100 else float(x)/100+1)\n",
    "df_val_y=df_val[['LONGITUDE','LATITUDE','FLOOR','BUILDING_0','BUILDING_1','BUILDING_2','BUILDINGID']]"
   ]
  },
  {
   "cell_type": "markdown",
   "metadata": {},
   "source": [
    "## Building the Models"
   ]
  },
  {
   "cell_type": "markdown",
   "metadata": {},
   "source": [
    "The plan is to build several basic models using various algorithms. After picking the good performing ones, we will build an ensemble models with the original data and previous prediction as input. The idea is that, by such combination, we will figure out the regions that each basoic model is good at and conbine the strengh of each model into the final prediction."
   ]
  },
  {
   "cell_type": "markdown",
   "metadata": {},
   "source": [
    "### Model 0, KNN"
   ]
  },
  {
   "cell_type": "markdown",
   "metadata": {},
   "source": [
    "Due to the natural of the problem, a similar signal profiles will result in similar prediction of location. This the reason behind our first model. We tried several set of parameter to find the best number of K."
   ]
  },
  {
   "cell_type": "code",
   "execution_count": 12,
   "metadata": {},
   "outputs": [],
   "source": [
    "p=1\n",
    "n_neighbors=3\n",
    "model_0=KNR(n_neighbors=n_neighbors, weights='uniform',p=p)\n",
    "model_0.fit(X_train, y_train[['LONGITUDE','LATITUDE','FLOOR','BUILDING_0','BUILDING_1','BUILDING_2']])\n",
    "\n",
    "y_0=model_0.predict(X_train)\n",
    "y_0=pd.DataFrame(y_0, columns=['LONGITUDE','LATITUDE','FLOOR','BUILDING_0','BUILDING_1','BUILDING_2'])\n",
    "y_0['FLOOR_FLOAT']=y_0['FLOOR']\n",
    "y_0['FLOOR']=y_0['FLOOR'].astype(int)\n",
    "y_0['BUILDINGID']=y_0[['BUILDING_0','BUILDING_1','BUILDING_2']].idxmax(axis=1)\n",
    "y_0['BUILDINGID']=y_0['BUILDINGID'].apply(lambda x: x[-1])\n",
    "\n",
    "y_prid_0=model_0.predict(X_test)\n",
    "y_prid_0=pd.DataFrame(y_prid_0, columns=['LONGITUDE','LATITUDE','FLOOR','BUILDING_0','BUILDING_1','BUILDING_2'])\n",
    "y_prid_0['FLOOR_FLOAT']=y_prid_0['FLOOR']\n",
    "y_prid_0['FLOOR']=y_prid_0['FLOOR'].astype(int)\n",
    "y_prid_0['BUILDINGID']=y_prid_0[['BUILDING_0','BUILDING_1','BUILDING_2']].idxmax(axis=1)\n",
    "y_prid_0['BUILDINGID']=y_prid_0['BUILDINGID'].apply(lambda x: x[-1])"
   ]
  },
  {
   "cell_type": "markdown",
   "metadata": {},
   "source": [
    "We use the Scoring function to calculate the accuracy of predictions on the training and test set."
   ]
  },
  {
   "cell_type": "code",
   "execution_count": 15,
   "metadata": {},
   "outputs": [],
   "source": [
    "def Scoring(train, test):\n",
    "    print('Total train:', len(train))\n",
    "    print((train[['FLOOR','BUILDINGID']]==y_train[['FLOOR','BUILDINGID']]).sum())\n",
    "    print((train[['FLOOR','BUILDINGID']]==y_train[['FLOOR','BUILDINGID']]).sum()/len(train))\n",
    "\n",
    "    print('\\n')\n",
    "\n",
    "    print('Total test:', len(test))\n",
    "    print((test[['FLOOR','BUILDINGID']]==y_test[['FLOOR','BUILDINGID']]).sum())\n",
    "    print((test[['FLOOR','BUILDINGID']]==y_test[['FLOOR','BUILDINGID']]).sum()/len(test))\n",
    "    \n",
    "    return"
   ]
  },
  {
   "cell_type": "code",
   "execution_count": 16,
   "metadata": {},
   "outputs": [
    {
     "name": "stdout",
     "output_type": "stream",
     "text": [
      "Total train: 14952\n",
      "FLOOR         14927\n",
      "BUILDINGID    14951\n",
      "dtype: int64\n",
      "FLOOR         0.998328\n",
      "BUILDINGID    0.999933\n",
      "dtype: float64\n",
      "\n",
      "\n",
      "Total test: 4985\n",
      "FLOOR         4973\n",
      "BUILDINGID    4985\n",
      "dtype: int64\n",
      "FLOOR         0.997593\n",
      "BUILDINGID    1.000000\n",
      "dtype: float64\n"
     ]
    }
   ],
   "source": [
    "Scoring(y_0, y_prid_0)"
   ]
  },
  {
   "cell_type": "markdown",
   "metadata": {},
   "source": [
    "For the regression results, we track both the MSE and the max error on the test set."
   ]
  },
  {
   "cell_type": "code",
   "execution_count": 17,
   "metadata": {},
   "outputs": [],
   "source": [
    "def Score_Reg(pred):\n",
    "    total=0\n",
    "    maxx=0\n",
    "    for i in range(pred.shape[0]):\n",
    "        temp=np.sqrt((pred.iloc[i][0]-y_test.iloc[i][1])**2+(pred.iloc[i][1]-y_test.iloc[i][2])**2+(pred.iloc[i][2]-y_test.iloc[i][3])**2)\n",
    "        total+=temp\n",
    "        maxx=max(maxx,temp)\n",
    "    \n",
    "    print('Average Error:',total/(i+1))\n",
    "    print('Max Error:',maxx)\n",
    "    \n",
    "    return"
   ]
  },
  {
   "cell_type": "code",
   "execution_count": 18,
   "metadata": {},
   "outputs": [
    {
     "name": "stdout",
     "output_type": "stream",
     "text": [
      "Average Error: 0.8856877959572254\n",
      "Max Error: 38.08066098288826\n"
     ]
    }
   ],
   "source": [
    "Score_Reg(y_prid_0)"
   ]
  },
  {
   "cell_type": "code",
   "execution_count": 21,
   "metadata": {},
   "outputs": [],
   "source": [
    "y_val_prid_0=model_0.predict(df_val_X)\n",
    "y_val_prid_0=pd.DataFrame(y_val_prid_0, columns=['LONGITUDE','LATITUDE','FLOOR','BUILDING_0','BUILDING_1','BUILDING_2'])\n",
    "y_val_prid_0['FLOOR_FLOAT']=y_val_prid_0['FLOOR']\n",
    "y_val_prid_0['FLOOR']=y_val_prid_0['FLOOR'].astype(int)\n",
    "y_val_prid_0['BUILDINGID']=y_val_prid_0[['BUILDING_0','BUILDING_1','BUILDING_2']].idxmax(axis=1)\n",
    "y_val_prid_0['BUILDINGID']=y_val_prid_0['BUILDINGID'].apply(lambda x: x[-1])"
   ]
  },
  {
   "cell_type": "code",
   "execution_count": 22,
   "metadata": {},
   "outputs": [],
   "source": [
    "def Score_Val(pred):\n",
    "    print(len(pred))\n",
    "    print((pred[['FLOOR','BUILDINGID']]==df_val_y[['FLOOR','BUILDINGID']]).sum())\n",
    "    print((pred[['FLOOR','BUILDINGID']]==df_val_y[['FLOOR','BUILDINGID']]).sum()/len(pred))\n",
    "    \n",
    "    total=0\n",
    "    maxx=0\n",
    "    for i in range(pred.shape[0]):\n",
    "        temp=np.sqrt((pred.iloc[i][0]-df_val_y.iloc[i][0])**2+(pred.iloc[i][1]-df_val_y.iloc[i][1])**2+(pred.iloc[i][2]-df_val_y.iloc[i][2])**2)\n",
    "        total+=temp\n",
    "        maxx=max(maxx,temp)\n",
    "    \n",
    "    print('\\n')\n",
    "    \n",
    "    print('Average Error:', total/(i+1))\n",
    "    print('Max Error:', maxx)\n",
    "    \n",
    "    return"
   ]
  },
  {
   "cell_type": "code",
   "execution_count": 23,
   "metadata": {},
   "outputs": [
    {
     "name": "stdout",
     "output_type": "stream",
     "text": [
      "1111\n",
      "FLOOR          982\n",
      "BUILDINGID    1111\n",
      "dtype: int64\n",
      "FLOOR         0.883888\n",
      "BUILDINGID    1.000000\n",
      "dtype: float64\n",
      "Average Error: 7.483081868035265\n",
      "Max Error: 100.77312128316551\n"
     ]
    }
   ],
   "source": [
    "Score_Val(y_val_prid_0)"
   ]
  },
  {
   "cell_type": "markdown",
   "metadata": {},
   "source": [
    "### Model 1, Linear Regression"
   ]
  },
  {
   "cell_type": "markdown",
   "metadata": {},
   "source": [
    "We consider the linear regression for its extrapolation ability."
   ]
  },
  {
   "cell_type": "code",
   "execution_count": 24,
   "metadata": {},
   "outputs": [],
   "source": [
    "model_1_long = Ridge()\n",
    "model_1_long.fit(X_train, y_train['LONGITUDE'])\n",
    "y_prid_1_long=model_1_long.predict(X_test)\n",
    "y_1_long=model_1_long.predict(X_train)"
   ]
  },
  {
   "cell_type": "code",
   "execution_count": 25,
   "metadata": {},
   "outputs": [],
   "source": [
    "model_1_lat = Ridge()\n",
    "model_1_lat.fit(X_train, y_train['LATITUDE'])\n",
    "y_prid_1_lat=model_1_lat.predict(X_test)\n",
    "y_1_lat=model_1_lat.predict(X_train)"
   ]
  },
  {
   "cell_type": "code",
   "execution_count": 26,
   "metadata": {},
   "outputs": [],
   "source": [
    "model_1_floor = Ridge()\n",
    "model_1_floor.fit(X_train, y_train['FLOOR'])\n",
    "y_prid_1_floor=model_1_floor.predict(X_test)\n",
    "y_1_floor=model_1_floor.predict(X_train)"
   ]
  },
  {
   "cell_type": "code",
   "execution_count": 27,
   "metadata": {},
   "outputs": [],
   "source": [
    "model_1_buld0 = Ridge()\n",
    "model_1_buld0.fit(X_train, y_train['BUILDING_0'])\n",
    "y_prid_1_buld0=model_1_buld0.predict(X_test)\n",
    "y_1_buld0=model_1_buld0.predict(X_train)"
   ]
  },
  {
   "cell_type": "code",
   "execution_count": 28,
   "metadata": {},
   "outputs": [],
   "source": [
    "model_1_buld1 = Ridge()\n",
    "model_1_buld1.fit(X_train, y_train['BUILDING_1'])\n",
    "y_prid_1_buld1=model_1_buld1.predict(X_test)\n",
    "y_1_buld1=model_1_buld1.predict(X_train)"
   ]
  },
  {
   "cell_type": "code",
   "execution_count": 29,
   "metadata": {},
   "outputs": [],
   "source": [
    "model_1_buld2 = Ridge()\n",
    "model_1_buld2.fit(X_train, y_train['BUILDING_2'])\n",
    "y_prid_1_buld2=model_1_buld2.predict(X_test)\n",
    "y_1_buld2=model_1_buld2.predict(X_train)"
   ]
  },
  {
   "cell_type": "code",
   "execution_count": 30,
   "metadata": {},
   "outputs": [],
   "source": [
    "y_prid_1=pd.DataFrame({'LONGITUDE': y_prid_1_long,'LATITUDE': y_prid_1_lat,'FLOOR': y_prid_1_floor,'BUILDING_0': y_prid_1_buld0,'BUILDING_1': y_prid_1_buld1,'BUILDING_2': y_prid_1_buld2})"
   ]
  },
  {
   "cell_type": "code",
   "execution_count": 31,
   "metadata": {},
   "outputs": [],
   "source": [
    "y_prid_1['BUILDINGID']=y_prid_1[['BUILDING_0','BUILDING_1','BUILDING_2']].idxmax(axis=1)\n",
    "y_prid_1['BUILDINGID']=y_prid_1['BUILDINGID'].apply(lambda x: x[-1])\n",
    "y_prid_1['FLOOR_FLOAT']=y_prid_1['FLOOR']\n",
    "y_prid_1['FLOOR']=y_prid_1['FLOOR'].astype(int)"
   ]
  },
  {
   "cell_type": "code",
   "execution_count": 32,
   "metadata": {},
   "outputs": [],
   "source": [
    "y_1=pd.DataFrame({'LONGITUDE': y_1_long,'LATITUDE': y_1_lat,'FLOOR': y_1_floor,'BUILDING_0': y_1_buld0,'BUILDING_1': y_1_buld1,'BUILDING_2': y_1_buld2})"
   ]
  },
  {
   "cell_type": "code",
   "execution_count": 33,
   "metadata": {},
   "outputs": [],
   "source": [
    "y_1['BUILDINGID']=y_1[['BUILDING_0','BUILDING_1','BUILDING_2']].idxmax(axis=1)\n",
    "y_1['BUILDINGID']=y_1['BUILDINGID'].apply(lambda x: x[-1])\n",
    "y_1['FLOOR_FLOAT']=y_1['FLOOR']\n",
    "y_1['FLOOR']=y_1['FLOOR'].astype(int)"
   ]
  },
  {
   "cell_type": "code",
   "execution_count": 34,
   "metadata": {},
   "outputs": [
    {
     "name": "stdout",
     "output_type": "stream",
     "text": [
      "Total train: 14952\n",
      "FLOOR          8009\n",
      "BUILDINGID    14929\n",
      "dtype: int64\n",
      "FLOOR         0.535647\n",
      "BUILDINGID    0.998462\n",
      "dtype: float64\n",
      "\n",
      "\n",
      "Total test: 4985\n",
      "FLOOR         2602\n",
      "BUILDINGID    4978\n",
      "dtype: int64\n",
      "FLOOR         0.521966\n",
      "BUILDINGID    0.998596\n",
      "dtype: float64\n"
     ]
    }
   ],
   "source": [
    "Scoring(y_1, y_prid_1)"
   ]
  },
  {
   "cell_type": "code",
   "execution_count": 35,
   "metadata": {},
   "outputs": [
    {
     "name": "stdout",
     "output_type": "stream",
     "text": [
      "Average Error: 8.925230319135412\n",
      "Max Error: 55.26657246450463\n"
     ]
    }
   ],
   "source": [
    "Score_Reg(y_prid_1)"
   ]
  },
  {
   "cell_type": "code",
   "execution_count": 36,
   "metadata": {},
   "outputs": [],
   "source": [
    "y_val_prid_1_long=model_1_long.predict(df_val_X)\n",
    "y_val_prid_1_lat=model_1_lat.predict(df_val_X)\n",
    "y_val_prid_1_floor=model_1_floor.predict(df_val_X)\n",
    "y_val_prid_1_buld0=model_1_buld0.predict(df_val_X)\n",
    "y_val_prid_1_buld1=model_1_buld1.predict(df_val_X)\n",
    "y_val_prid_1_buld2=model_1_buld2.predict(df_val_X)\n",
    "\n",
    "y_val_prid_1=pd.DataFrame({'LONGITUDE': y_val_prid_1_long,'LATITUDE': y_val_prid_1_lat,'FLOOR': y_val_prid_1_floor,'BUILDING_0': y_val_prid_1_buld0,'BUILDING_1': y_val_prid_1_buld1,'BUILDING_2': y_val_prid_1_buld2})\n",
    "y_val_prid_1['FLOOR_FLOAT']=y_val_prid_1['FLOOR']\n",
    "y_val_prid_1['FLOOR']=y_val_prid_1['FLOOR'].astype(int)\n",
    "y_val_prid_1['BUILDINGID']=y_val_prid_1[['BUILDING_0','BUILDING_1','BUILDING_2']].idxmax(axis=1)\n",
    "y_val_prid_1['BUILDINGID']=y_val_prid_1['BUILDINGID'].apply(lambda x: x[-1])"
   ]
  },
  {
   "cell_type": "code",
   "execution_count": 37,
   "metadata": {},
   "outputs": [
    {
     "name": "stdout",
     "output_type": "stream",
     "text": [
      "1111\n",
      "FLOOR          632\n",
      "BUILDINGID    1087\n",
      "dtype: int64\n",
      "FLOOR         0.568857\n",
      "BUILDINGID    0.978398\n",
      "dtype: float64\n",
      "Average Error: 12.25702987028336\n",
      "Max Error: 48.85371006733079\n"
     ]
    }
   ],
   "source": [
    "Score_Val(y_val_prid_1)"
   ]
  },
  {
   "cell_type": "markdown",
   "metadata": {},
   "source": [
    "### Model 2, Decision Tree"
   ]
  },
  {
   "cell_type": "code",
   "execution_count": 39,
   "metadata": {},
   "outputs": [],
   "source": [
    "max_depth=100\n",
    "\n",
    "model_2_long = DTR(max_depth=max_depth)\n",
    "model_2_long.fit(X_train, y_train['LONGITUDE'])\n",
    "y_prid_2_long=model_2_long.predict(X_test)\n",
    "y_2_long=model_2_long.predict(X_train)\n",
    "\n",
    "model_2_lat = DTR(max_depth=max_depth)\n",
    "model_2_lat.fit(X_train, y_train['LATITUDE'])\n",
    "y_prid_2_lat=model_2_lat.predict(X_test)\n",
    "y_2_lat=model_2_lat.predict(X_train)\n",
    "\n",
    "model_2_floor = DTC(max_depth=max_depth, )\n",
    "model_2_floor.fit(X_train, y_train['FLOOR'])\n",
    "y_prid_2_floor=model_2_floor.predict(X_test)\n",
    "y_2_floor=model_2_floor.predict(X_train)\n",
    "\n",
    "model_2_buld = DTC(max_depth=max_depth)\n",
    "model_2_buld.fit(X_train, y_train['BUILDINGID'])\n",
    "y_prid_2_buld=model_2_buld.predict(X_test)\n",
    "y_2_buld=model_2_buld.predict(X_train)\n",
    "\n",
    "y_prid_2=pd.DataFrame({'LONGITUDE': y_prid_2_long,'LATITUDE': y_prid_2_lat,'FLOOR': y_prid_2_floor,'BUILDINGID': y_prid_2_buld})\n",
    "y_2=pd.DataFrame({'LONGITUDE': y_2_long,'LATITUDE': y_2_lat,'FLOOR': y_2_floor,'BUILDINGID': y_2_buld})\n"
   ]
  },
  {
   "cell_type": "code",
   "execution_count": 42,
   "metadata": {},
   "outputs": [
    {
     "name": "stdout",
     "output_type": "stream",
     "text": [
      "Total train: 14952\n",
      "FLOOR         14952\n",
      "BUILDINGID    14952\n",
      "dtype: int64\n",
      "FLOOR         1.0\n",
      "BUILDINGID    1.0\n",
      "dtype: float64\n",
      "\n",
      "\n",
      "Total test: 4985\n",
      "FLOOR         4852\n",
      "BUILDINGID    4980\n",
      "dtype: int64\n",
      "FLOOR         0.973320\n",
      "BUILDINGID    0.998997\n",
      "dtype: float64\n"
     ]
    }
   ],
   "source": [
    "Scoring(y_2, y_prid_2)"
   ]
  },
  {
   "cell_type": "code",
   "execution_count": 43,
   "metadata": {},
   "outputs": [
    {
     "name": "stdout",
     "output_type": "stream",
     "text": [
      "Average Error: 0.7149691609387997\n",
      "Max Error: 105.2231519147811\n"
     ]
    }
   ],
   "source": [
    "Score_Reg(y_prid_2)"
   ]
  },
  {
   "cell_type": "code",
   "execution_count": 44,
   "metadata": {},
   "outputs": [],
   "source": [
    "y_val_prid_2_long=model_2_long.predict(df_val_X)\n",
    "y_val_prid_2_lat=model_2_lat.predict(df_val_X)\n",
    "y_val_prid_2_floor=model_2_floor.predict(df_val_X)\n",
    "y_val_prid_2_buld=model_2_buld.predict(df_val_X)\n",
    "\n",
    "y_val_prid_2=pd.DataFrame({'LONGITUDE': y_val_prid_2_long,'LATITUDE': y_val_prid_2_lat,'FLOOR': y_val_prid_2_floor,'BUILDINGID': y_val_prid_2_buld})\n",
    "y_val_prid_2['FLOOR_FLOAT']=y_val_prid_2['FLOOR']\n",
    "y_val_prid_2['FLOOR']=y_val_prid_2['FLOOR'].astype(int)\n"
   ]
  },
  {
   "cell_type": "code",
   "execution_count": 45,
   "metadata": {},
   "outputs": [
    {
     "name": "stdout",
     "output_type": "stream",
     "text": [
      "1111\n",
      "FLOOR          885\n",
      "BUILDINGID    1105\n",
      "dtype: int64\n",
      "FLOOR         0.796580\n",
      "BUILDINGID    0.994599\n",
      "dtype: float64\n",
      "Average Error: 7.659473438738563\n",
      "Max Error: 109.19574738874927\n"
     ]
    }
   ],
   "source": [
    "Score_Val(y_val_prid_2)"
   ]
  },
  {
   "cell_type": "markdown",
   "metadata": {},
   "source": [
    "### Model 3, Random Forest"
   ]
  },
  {
   "cell_type": "code",
   "execution_count": 46,
   "metadata": {},
   "outputs": [],
   "source": [
    "n_estimators=200\n",
    "max_depth=None\n",
    "\n",
    "model_3_long = RFR(n_estimators=n_estimators, max_depth=max_depth)\n",
    "model_3_long.fit(X_train, y_train['LONGITUDE'])\n",
    "y_prid_3_long=model_3_long.predict(X_test)\n",
    "y_3_long=model_3_long.predict(X_train)\n",
    "\n",
    "model_3_lat = RFR(n_estimators=n_estimators, max_depth=max_depth)\n",
    "model_3_lat.fit(X_train, y_train['LATITUDE'])\n",
    "y_prid_3_lat=model_3_lat.predict(X_test)\n",
    "y_3_lat=model_3_lat.predict(X_train)\n",
    "\n",
    "model_3_floor = RFC(n_estimators=n_estimators, max_depth=max_depth)\n",
    "model_3_floor.fit(X_train, y_train['FLOOR'])\n",
    "y_prid_3_floor=model_3_floor.predict(X_test)\n",
    "y_3_floor=model_3_floor.predict(X_train)\n",
    "\n",
    "model_3_buld = RFC(n_estimators=n_estimators, max_depth=max_depth)\n",
    "model_3_buld.fit(X_train, y_train['BUILDINGID'])\n",
    "y_prid_3_buld=model_3_buld.predict(X_test)\n",
    "y_3_buld=model_3_buld.predict(X_train)\n",
    "\n",
    "y_prid_3=pd.DataFrame({'LONGITUDE': y_prid_3_long,'LATITUDE': y_prid_3_lat,'FLOOR': y_prid_3_floor,'BUILDINGID': y_prid_3_buld})\n",
    "y_3=pd.DataFrame({'LONGITUDE': y_3_long,'LATITUDE': y_3_lat,'FLOOR': y_3_floor,'BUILDINGID': y_3_buld})\n",
    "\n"
   ]
  },
  {
   "cell_type": "code",
   "execution_count": 47,
   "metadata": {},
   "outputs": [
    {
     "name": "stdout",
     "output_type": "stream",
     "text": [
      "Total train: 14952\n",
      "FLOOR         14952\n",
      "BUILDINGID    14952\n",
      "dtype: int64\n",
      "FLOOR         1.0\n",
      "BUILDINGID    1.0\n",
      "dtype: float64\n",
      "\n",
      "\n",
      "Total test: 4985\n",
      "FLOOR         4981\n",
      "BUILDINGID    4985\n",
      "dtype: int64\n",
      "FLOOR         0.999198\n",
      "BUILDINGID    1.000000\n",
      "dtype: float64\n"
     ]
    }
   ],
   "source": [
    "Scoring(y_3, y_prid_3)"
   ]
  },
  {
   "cell_type": "code",
   "execution_count": 48,
   "metadata": {},
   "outputs": [
    {
     "name": "stdout",
     "output_type": "stream",
     "text": [
      "Average Error: 0.7855965582503579\n",
      "Max Error: 70.62044657834707\n"
     ]
    }
   ],
   "source": [
    "Score_Reg(y_prid_3)"
   ]
  },
  {
   "cell_type": "code",
   "execution_count": 49,
   "metadata": {},
   "outputs": [],
   "source": [
    "y_val_prid_3_long=model_3_long.predict(df_val_X)\n",
    "y_val_prid_3_lat=model_3_lat.predict(df_val_X)\n",
    "y_val_prid_3_floor=model_3_floor.predict(df_val_X)\n",
    "y_val_prid_3_buld=model_3_buld.predict(df_val_X)\n",
    "\n",
    "y_val_prid_3=pd.DataFrame({'LONGITUDE': y_val_prid_3_long,'LATITUDE': y_val_prid_3_lat,'FLOOR': y_val_prid_3_floor,'BUILDINGID': y_val_prid_3_buld})\n",
    "y_val_prid_3['FLOOR_FLOAT']=y_val_prid_3['FLOOR']\n",
    "y_val_prid_3['FLOOR']=y_val_prid_3['FLOOR'].astype(int)\n"
   ]
  },
  {
   "cell_type": "code",
   "execution_count": 50,
   "metadata": {},
   "outputs": [
    {
     "name": "stdout",
     "output_type": "stream",
     "text": [
      "1111\n",
      "FLOOR         1012\n",
      "BUILDINGID    1110\n",
      "dtype: int64\n",
      "FLOOR         0.910891\n",
      "BUILDINGID    0.999100\n",
      "dtype: float64\n",
      "Average Error: 6.891515553941267\n",
      "Max Error: 99.57908130611776\n"
     ]
    }
   ],
   "source": [
    "Score_Val(y_val_prid_3)"
   ]
  },
  {
   "cell_type": "markdown",
   "metadata": {},
   "source": [
    "### Model 4, Gradient Boosting"
   ]
  },
  {
   "cell_type": "code",
   "execution_count": 51,
   "metadata": {},
   "outputs": [],
   "source": [
    "n_estimators=200\n",
    "learning_rate=0.2\n",
    "\n",
    "model_4_long = GBR(n_estimators=n_estimators, learning_rate=learning_rate)\n",
    "model_4_long.fit(X_train, y_train['LONGITUDE'])\n",
    "y_prid_4_long=model_4_long.predict(X_test)\n",
    "y_4_long=model_4_long.predict(X_train)\n",
    "\n",
    "model_4_lat = GBR(n_estimators=n_estimators, learning_rate=learning_rate)\n",
    "model_4_lat.fit(X_train, y_train['LATITUDE'])\n",
    "y_prid_4_lat=model_4_lat.predict(X_test)\n",
    "y_4_lat=model_4_lat.predict(X_train)\n",
    "\n",
    "model_4_floor = GBC(n_estimators=n_estimators, learning_rate=learning_rate)\n",
    "model_4_floor.fit(X_train, y_train['FLOOR'])\n",
    "y_prid_4_floor=model_4_floor.predict(X_test)\n",
    "y_4_floor=model_4_floor.predict(X_train)\n",
    "\n",
    "model_4_buld = GBC(n_estimators=n_estimators, learning_rate=learning_rate)\n",
    "model_4_buld.fit(X_train, y_train['BUILDINGID'])\n",
    "y_prid_4_buld=model_4_buld.predict(X_test)\n",
    "y_4_buld=model_4_buld.predict(X_train)\n",
    "\n",
    "y_prid_4=pd.DataFrame({'LONGITUDE': y_prid_4_long,'LATITUDE': y_prid_4_lat,'FLOOR': y_prid_4_floor,'BUILDINGID': y_prid_4_buld})\n",
    "y_4=pd.DataFrame({'LONGITUDE': y_4_long,'LATITUDE': y_4_lat,'FLOOR': y_4_floor,'BUILDINGID': y_4_buld})"
   ]
  },
  {
   "cell_type": "code",
   "execution_count": 52,
   "metadata": {},
   "outputs": [
    {
     "name": "stdout",
     "output_type": "stream",
     "text": [
      "Total train: 14952\n",
      "FLOOR         14950\n",
      "BUILDINGID    14952\n",
      "dtype: int64\n",
      "FLOOR         0.999866\n",
      "BUILDINGID    1.000000\n",
      "dtype: float64\n",
      "\n",
      "\n",
      "Total test: 4985\n",
      "FLOOR         4975\n",
      "BUILDINGID    4985\n",
      "dtype: int64\n",
      "FLOOR         0.997994\n",
      "BUILDINGID    1.000000\n",
      "dtype: float64\n"
     ]
    }
   ],
   "source": [
    "Scoring(y_4, y_prid_4)"
   ]
  },
  {
   "cell_type": "code",
   "execution_count": 53,
   "metadata": {},
   "outputs": [
    {
     "name": "stdout",
     "output_type": "stream",
     "text": [
      "Average Error: 4.993340239780464\n",
      "Max Error: 46.485715109781644\n"
     ]
    }
   ],
   "source": [
    "Score_Reg(y_prid_4)"
   ]
  },
  {
   "cell_type": "code",
   "execution_count": 54,
   "metadata": {},
   "outputs": [],
   "source": [
    "y_val_prid_4_long=model_4_long.predict(df_val_X)\n",
    "y_val_prid_4_lat=model_4_lat.predict(df_val_X)\n",
    "y_val_prid_4_floor=model_4_floor.predict(df_val_X)\n",
    "y_val_prid_4_buld=model_4_buld.predict(df_val_X)\n",
    "\n",
    "y_val_prid_4=pd.DataFrame({'LONGITUDE': y_val_prid_4_long,'LATITUDE': y_val_prid_4_lat,'FLOOR': y_val_prid_4_floor,'BUILDINGID': y_val_prid_4_buld})\n",
    "y_val_prid_4['FLOOR_FLOAT']=y_val_prid_4['FLOOR']\n",
    "y_val_prid_4['FLOOR']=y_val_prid_4['FLOOR'].astype(int)"
   ]
  },
  {
   "cell_type": "code",
   "execution_count": 55,
   "metadata": {},
   "outputs": [
    {
     "name": "stdout",
     "output_type": "stream",
     "text": [
      "1111\n",
      "FLOOR          998\n",
      "BUILDINGID    1111\n",
      "dtype: int64\n",
      "FLOOR         0.89829\n",
      "BUILDINGID    1.00000\n",
      "dtype: float64\n",
      "Average Error: 9.03088472637858\n",
      "Max Error: 72.78401532409684\n"
     ]
    }
   ],
   "source": [
    "Score_Val(y_val_prid_4)"
   ]
  },
  {
   "cell_type": "markdown",
   "metadata": {},
   "source": [
    "### Model 5, AdaBoost"
   ]
  },
  {
   "cell_type": "code",
   "execution_count": 56,
   "metadata": {},
   "outputs": [],
   "source": [
    "n_estimators=1000\n",
    "learning_rate=0.1\n",
    "\n",
    "model_5_long = ABR(n_estimators=n_estimators, learning_rate=learning_rate)\n",
    "model_5_long.fit(X_train, y_train['LONGITUDE'])\n",
    "y_prid_5_long=model_5_long.predict(X_test)\n",
    "y_5_long=model_5_long.predict(X_train)\n",
    "\n",
    "model_5_lat = ABR(n_estimators=n_estimators, learning_rate=learning_rate)\n",
    "model_5_lat.fit(X_train, y_train['LATITUDE'])\n",
    "y_prid_5_lat=model_5_lat.predict(X_test)\n",
    "y_5_lat=model_5_lat.predict(X_train)\n",
    "\n",
    "model_5_floor = ABC(n_estimators=n_estimators, learning_rate=learning_rate)\n",
    "model_5_floor.fit(X_train, y_train['FLOOR'])\n",
    "y_prid_5_floor=model_5_floor.predict(X_test)\n",
    "y_5_floor=model_5_floor.predict(X_train)\n",
    "\n",
    "model_5_buld = ABC(n_estimators=n_estimators, learning_rate=learning_rate)\n",
    "model_5_buld.fit(X_train, y_train['BUILDINGID'])\n",
    "y_prid_5_buld=model_5_buld.predict(X_test)\n",
    "y_5_buld=model_5_buld.predict(X_train)\n",
    "\n",
    "y_prid_5=pd.DataFrame({'LONGITUDE': y_prid_5_long,'LATITUDE': y_prid_5_lat,'FLOOR': y_prid_5_floor,'BUILDINGID': y_prid_5_buld})\n",
    "y_5=pd.DataFrame({'LONGITUDE': y_5_long,'LATITUDE': y_5_lat,'FLOOR': y_5_floor,'BUILDINGID': y_5_buld})"
   ]
  },
  {
   "cell_type": "code",
   "execution_count": 57,
   "metadata": {},
   "outputs": [
    {
     "name": "stdout",
     "output_type": "stream",
     "text": [
      "Total train: 14952\n",
      "FLOOR          8396\n",
      "BUILDINGID    10629\n",
      "dtype: int64\n",
      "FLOOR         0.561530\n",
      "BUILDINGID    0.710875\n",
      "dtype: float64\n",
      "\n",
      "\n",
      "Total test: 4985\n",
      "FLOOR         2800\n",
      "BUILDINGID    3547\n",
      "dtype: int64\n",
      "FLOOR         0.561685\n",
      "BUILDINGID    0.711535\n",
      "dtype: float64\n"
     ]
    }
   ],
   "source": [
    "Scoring(y_5, y_prid_5)"
   ]
  },
  {
   "cell_type": "code",
   "execution_count": 58,
   "metadata": {},
   "outputs": [
    {
     "name": "stdout",
     "output_type": "stream",
     "text": [
      "Average Error: 20.766527507204\n",
      "Max Error: 51.13172168896582\n"
     ]
    }
   ],
   "source": [
    "Score_Reg(y_prid_5)"
   ]
  },
  {
   "cell_type": "code",
   "execution_count": 59,
   "metadata": {},
   "outputs": [],
   "source": [
    "y_val_prid_5_long=model_5_long.predict(df_val_X)\n",
    "y_val_prid_5_lat=model_5_lat.predict(df_val_X)\n",
    "y_val_prid_5_floor=model_5_floor.predict(df_val_X)\n",
    "y_val_prid_5_buld=model_5_buld.predict(df_val_X)\n",
    "\n",
    "y_val_prid_5=pd.DataFrame({'LONGITUDE': y_val_prid_5_long,'LATITUDE': y_val_prid_5_lat,'FLOOR': y_val_prid_5_floor,'BUILDINGID': y_val_prid_5_buld})\n",
    "y_val_prid_5['FLOOR_FLOAT']=y_val_prid_5['FLOOR']\n",
    "y_val_prid_5['FLOOR']=y_val_prid_5['FLOOR'].astype(int)"
   ]
  },
  {
   "cell_type": "code",
   "execution_count": 60,
   "metadata": {},
   "outputs": [
    {
     "name": "stdout",
     "output_type": "stream",
     "text": [
      "1111\n",
      "FLOOR         542\n",
      "BUILDINGID    971\n",
      "dtype: int64\n",
      "FLOOR         0.487849\n",
      "BUILDINGID    0.873987\n",
      "dtype: float64\n",
      "Average Error: 20.067315884807726\n",
      "Max Error: 56.586676198444756\n"
     ]
    }
   ],
   "source": [
    "Score_Val(y_val_prid_5)"
   ]
  },
  {
   "cell_type": "markdown",
   "metadata": {},
   "source": [
    "### Model 6, XGBoost"
   ]
  },
  {
   "cell_type": "code",
   "execution_count": 61,
   "metadata": {},
   "outputs": [],
   "source": [
    "n_estimators=200\n",
    "learning_rate = 0.5\n",
    "\n",
    "model_6_long = XGR(n_estimators=n_estimators, learning_rate=learning_rate)\n",
    "model_6_long.fit(X_train, y_train['LONGITUDE'])\n",
    "y_prid_6_long=model_6_long.predict(X_test)\n",
    "y_6_long=model_6_long.predict(X_train)\n",
    "\n",
    "model_6_lat = XGR(n_estimators=n_estimators, learning_rate=learning_rate)\n",
    "model_6_lat.fit(X_train, y_train['LATITUDE'])\n",
    "y_prid_6_lat=model_6_lat.predict(X_test)\n",
    "y_6_lat=model_6_lat.predict(X_train)\n",
    "\n",
    "model_6_floor = XGC(n_estimators=n_estimators, learning_rate=learning_rate)\n",
    "model_6_floor.fit(X_train, y_train['FLOOR'])\n",
    "y_prid_6_floor=model_6_floor.predict(X_test)\n",
    "y_6_floor=model_6_floor.predict(X_train)\n",
    "\n",
    "model_6_buld = XGC(n_estimators=n_estimators, learning_rate=learning_rate)\n",
    "model_6_buld.fit(X_train, y_train['BUILDINGID'])\n",
    "y_prid_6_buld=model_6_buld.predict(X_test)\n",
    "y_6_buld=model_6_buld.predict(X_train)\n",
    "\n",
    "y_prid_6=pd.DataFrame({'LONGITUDE': y_prid_6_long,'LATITUDE': y_prid_6_lat,'FLOOR': y_prid_6_floor,'BUILDINGID': y_prid_6_buld})\n",
    "y_6=pd.DataFrame({'LONGITUDE': y_6_long,'LATITUDE': y_6_lat,'FLOOR': y_6_floor,'BUILDINGID': y_6_buld})"
   ]
  },
  {
   "cell_type": "code",
   "execution_count": 62,
   "metadata": {},
   "outputs": [
    {
     "name": "stdout",
     "output_type": "stream",
     "text": [
      "Total train: 14952\n",
      "FLOOR         14951\n",
      "BUILDINGID    14952\n",
      "dtype: int64\n",
      "FLOOR         0.999933\n",
      "BUILDINGID    1.000000\n",
      "dtype: float64\n",
      "\n",
      "\n",
      "Total test: 4985\n",
      "FLOOR         4977\n",
      "BUILDINGID    4985\n",
      "dtype: int64\n",
      "FLOOR         0.998395\n",
      "BUILDINGID    1.000000\n",
      "dtype: float64\n"
     ]
    }
   ],
   "source": [
    "Scoring(y_6, y_prid_6)"
   ]
  },
  {
   "cell_type": "code",
   "execution_count": 63,
   "metadata": {},
   "outputs": [
    {
     "name": "stdout",
     "output_type": "stream",
     "text": [
      "Average Error: 4.519621534788449\n",
      "Max Error: 48.26143965331609\n"
     ]
    }
   ],
   "source": [
    "Score_Reg(y_prid_6)"
   ]
  },
  {
   "cell_type": "code",
   "execution_count": 64,
   "metadata": {},
   "outputs": [],
   "source": [
    "y_val_prid_6_long=model_6_long.predict(df_val_X)\n",
    "y_val_prid_6_lat=model_6_lat.predict(df_val_X)\n",
    "y_val_prid_6_floor=model_6_floor.predict(df_val_X)\n",
    "y_val_prid_6_buld=model_6_buld.predict(df_val_X)\n",
    "\n",
    "y_val_prid_6=pd.DataFrame({'LONGITUDE': y_val_prid_6_long,'LATITUDE': y_val_prid_6_lat,'FLOOR': y_val_prid_6_floor,'BUILDINGID': y_val_prid_6_buld})\n",
    "y_val_prid_6['FLOOR_FLOAT']=y_val_prid_6['FLOOR']\n",
    "y_val_prid_6['FLOOR']=y_val_prid_6['FLOOR'].astype(int)"
   ]
  },
  {
   "cell_type": "code",
   "execution_count": 65,
   "metadata": {},
   "outputs": [
    {
     "name": "stdout",
     "output_type": "stream",
     "text": [
      "1111\n",
      "FLOOR         1004\n",
      "BUILDINGID    1111\n",
      "dtype: int64\n",
      "FLOOR         0.90369\n",
      "BUILDINGID    1.00000\n",
      "dtype: float64\n",
      "Average Error: 9.195721744393918\n",
      "Max Error: 64.91842608935353\n"
     ]
    }
   ],
   "source": [
    "Score_Val(y_val_prid_6)"
   ]
  },
  {
   "cell_type": "markdown",
   "metadata": {},
   "source": [
    "### Model 7, Neural Network"
   ]
  },
  {
   "cell_type": "code",
   "execution_count": 66,
   "metadata": {},
   "outputs": [],
   "source": [
    "hidden_layer=(500,100,50)\n",
    "\n",
    "model_7_long = NNR(solver='adam', hidden_layer_sizes=hidden_layer, activation='relu', alpha=0.001)\n",
    "model_7_long.fit(X_train, y_train['LONGITUDE'])\n",
    "y_prid_7_long=model_7_long.predict(X_test)\n",
    "y_7_long=model_7_long.predict(X_train)\n",
    "\n",
    "model_7_lat = NNR(solver='adam', hidden_layer_sizes=hidden_layer, activation='relu', alpha=0.01)\n",
    "model_7_lat.fit(X_train, y_train['LATITUDE'])\n",
    "y_prid_7_lat=model_7_lat.predict(X_test)\n",
    "y_7_lat=model_7_lat.predict(X_train)\n",
    "\n",
    "model_7_floor = NNC(solver='adam', hidden_layer_sizes=hidden_layer, activation='relu')\n",
    "model_7_floor.fit(X_train, y_train['FLOOR'])\n",
    "y_prid_7_floor=model_7_floor.predict(X_test)\n",
    "y_7_floor=model_7_floor.predict(X_train)\n",
    "\n",
    "model_7_buld = NNC(solver='adam', hidden_layer_sizes=hidden_layer, activation='relu')\n",
    "model_7_buld.fit(X_train, y_train['BUILDINGID'])\n",
    "y_prid_7_buld=model_7_buld.predict(X_test)\n",
    "y_7_buld=model_7_buld.predict(X_train)\n",
    "\n",
    "y_prid_7=pd.DataFrame({'LONGITUDE': y_prid_7_long,'LATITUDE': y_prid_7_lat,'FLOOR': y_prid_7_floor,'BUILDINGID': y_prid_7_buld})\n",
    "y_7=pd.DataFrame({'LONGITUDE': y_7_long,'LATITUDE': y_7_lat,'FLOOR': y_7_floor,'BUILDINGID': y_7_buld})"
   ]
  },
  {
   "cell_type": "code",
   "execution_count": 67,
   "metadata": {},
   "outputs": [
    {
     "name": "stdout",
     "output_type": "stream",
     "text": [
      "Total train: 14952\n",
      "FLOOR         14912\n",
      "BUILDINGID    14920\n",
      "dtype: int64\n",
      "FLOOR         0.997325\n",
      "BUILDINGID    0.997860\n",
      "dtype: float64\n",
      "\n",
      "\n",
      "Total test: 4985\n",
      "FLOOR         4958\n",
      "BUILDINGID    4978\n",
      "dtype: int64\n",
      "FLOOR         0.994584\n",
      "BUILDINGID    0.998596\n",
      "dtype: float64\n"
     ]
    }
   ],
   "source": [
    "Scoring(y_7, y_prid_7)"
   ]
  },
  {
   "cell_type": "code",
   "execution_count": 68,
   "metadata": {},
   "outputs": [
    {
     "name": "stdout",
     "output_type": "stream",
     "text": [
      "Average Error: 13570.246575969204\n",
      "Max Error: 98857.38551662456\n"
     ]
    }
   ],
   "source": [
    "Score_Reg(y_prid_7)"
   ]
  },
  {
   "cell_type": "markdown",
   "metadata": {},
   "source": [
    "## Model Ensembling"
   ]
  },
  {
   "cell_type": "markdown",
   "metadata": {},
   "source": [
    "In this section, we build the ensemble model based on the previous predictions. Some of the code is rewritten into functions for cleaner presentation."
   ]
  },
  {
   "cell_type": "code",
   "execution_count": 69,
   "metadata": {},
   "outputs": [],
   "source": [
    "def Data_Read(filename='trainingData.csv', limiter=0):\n",
    "    df=pd.read_csv(filename)\n",
    "    df=pd.get_dummies(df, columns=['BUILDINGID'], prefix='BUILDING')\n",
    "    df['BUILDINGID']=df[['BUILDING_0','BUILDING_1','BUILDING_2']].idxmax(axis=1)\n",
    "    df['BUILDINGID']=df['BUILDINGID'].apply(lambda x: x[-1])\n",
    "    df_X=df.drop(df.columns[-12:], axis=1)\n",
    "    for col in df_X.columns:\n",
    "        df_X[col]=df_X[col].apply(lambda x:limiter if x==100 else float(x)/100+1)\n",
    "    df_y=df[['LONGITUDE','LATITUDE','FLOOR','BUILDING_0','BUILDING_1','BUILDING_2','BUILDINGID']]\n",
    "    \n",
    "    return df_X, df_y"
   ]
  },
  {
   "cell_type": "code",
   "execution_count": 70,
   "metadata": {},
   "outputs": [],
   "source": [
    "def Data_Split(df_X, df_y, test_size=0.25, random_state=None):\n",
    "    X_train, X_test, y_train, y_test = train_test_split(df_X, df_y, test_size=test_size, random_state=random_state)\n",
    "\n",
    "    X_test=X_test.reset_index()\n",
    "    X_train=X_train.reset_index()\n",
    "    y_test=y_test.reset_index()\n",
    "    y_train=y_train.reset_index()\n",
    "    \n",
    "    X_test=X_test.drop(['index'], axis=1)\n",
    "    X_train=X_train.drop(['index'], axis=1)\n",
    "    y_test=y_test.drop(['index'], axis=1)\n",
    "    y_train=y_train.drop(['index'], axis=1)\n",
    "    \n",
    "    return X_train, X_test, y_train, y_test"
   ]
  },
  {
   "cell_type": "code",
   "execution_count": 71,
   "metadata": {},
   "outputs": [],
   "source": [
    "def Model_Tree_Work(X_train, X_test, X_val, y_train, model_reg=None, model_clf=None):\n",
    "    pred_train=pd.DataFrame()\n",
    "    pred_test=pd.DataFrame()\n",
    "    pred_val=pd.DataFrame()\n",
    "    \n",
    "    for col in ['LONGITUDE','LATITUDE']:\n",
    "        model_temp=model_reg\n",
    "        model_temp.fit(X_train, y_train[col])\n",
    "        pred_train[col] = model_temp.predict(X_train)\n",
    "        pred_test[col] = model_temp.predict(X_test)\n",
    "        pred_val[col] = model_temp.predict(X_val)\n",
    "\n",
    "    for col in ['FLOOR','BUILDINGID']:\n",
    "        model_temp=model_clf\n",
    "        model_temp.fit(X_train, y_train[col])\n",
    "        pred_train[col] = model_temp.predict(X_train)\n",
    "        pred_test[col] = model_temp.predict(X_test)\n",
    "        pred_val[col] = model_temp.predict(X_val)\n",
    "        \n",
    "    return pred_train, pred_test, pred_val\n"
   ]
  },
  {
   "cell_type": "code",
   "execution_count": 72,
   "metadata": {},
   "outputs": [],
   "source": [
    "def KNN_Work(X_train, X_test, X_val, y_train, n_neighbor=1, p=1):\n",
    "    model_0=KNR(n_neighbors=n_neighbor, weights='uniform',p=p)\n",
    "    model_0.fit(X_train, y_train[['LONGITUDE','LATITUDE','FLOOR','BUILDING_0','BUILDING_1','BUILDING_2']])\n",
    "\n",
    "    y_prid_0=model_0.predict(X_test)\n",
    "    y_prid_0=pd.DataFrame(y_prid_0, columns=['LONGITUDE','LATITUDE','FLOOR','BUILDING_0','BUILDING_1','BUILDING_2'])\n",
    "    y_prid_0['FLOOR']=y_prid_0['FLOOR'].astype(int)\n",
    "    y_prid_0['BUILDINGID']=y_prid_0[['BUILDING_0','BUILDING_1','BUILDING_2']].idxmax(axis=1)\n",
    "    y_prid_0['BUILDINGID']=y_prid_0['BUILDINGID'].apply(lambda x: x[-1])\n",
    "    y_prid_0=y_prid_0.drop(['BUILDING_0','BUILDING_1','BUILDING_2'], axis=1)\n",
    "\n",
    "\n",
    "    y_0=model_0.predict(X_train)\n",
    "    y_0=pd.DataFrame(y_0, columns=['LONGITUDE','LATITUDE','FLOOR','BUILDING_0','BUILDING_1','BUILDING_2'])\n",
    "    y_0['FLOOR']=y_0['FLOOR'].astype(int)\n",
    "    y_0['BUILDINGID']=y_0[['BUILDING_0','BUILDING_1','BUILDING_2']].idxmax(axis=1)\n",
    "    y_0['BUILDINGID']=y_0['BUILDINGID'].apply(lambda x: x[-1])\n",
    "    y_0=y_0.drop(['BUILDING_0','BUILDING_1','BUILDING_2'], axis=1)\n",
    "\n",
    "    y_val_prid_0=model_0.predict(X_val)\n",
    "    y_val_prid_0=pd.DataFrame(y_val_prid_0, columns=['LONGITUDE','LATITUDE','FLOOR','BUILDING_0','BUILDING_1','BUILDING_2'])\n",
    "    y_val_prid_0['FLOOR']=y_val_prid_0['FLOOR'].astype(int)\n",
    "    y_val_prid_0['BUILDINGID']=y_val_prid_0[['BUILDING_0','BUILDING_1','BUILDING_2']].idxmax(axis=1)\n",
    "    y_val_prid_0['BUILDINGID']=y_val_prid_0['BUILDINGID'].apply(lambda x: x[-1])\n",
    "    y_val_prid_0=y_val_prid_0.drop(['BUILDING_0','BUILDING_1','BUILDING_2'], axis=1)\n",
    "\n",
    "    return y_0, y_prid_0, y_val_prid_0\n"
   ]
  },
  {
   "cell_type": "code",
   "execution_count": 73,
   "metadata": {},
   "outputs": [],
   "source": [
    "def Linear_Reg_Work(X_train, X_test, X_val, y_train):\n",
    "    pred_train_dic={}\n",
    "    pred_test_dic={}\n",
    "    pred_val_dic={}\n",
    "    \n",
    "    for col in ['LONGITUDE','LATITUDE','FLOOR','BUILDING_0','BUILDING_1','BUILDING_2']:\n",
    "        model_temp = Ridge()\n",
    "        model_temp.fit(X_train, y_train[col])\n",
    "        pred_train_dic[col] = model_temp.predict(X_train)\n",
    "        pred_test_dic[col] = model_temp.predict(X_test)\n",
    "        pred_val_dic[col] = model_temp.predict(X_val)\n",
    "    \n",
    "    pred_train=pd.DataFrame(pred_train_dic)\n",
    "    pred_test=pd.DataFrame(pred_test_dic)\n",
    "    pred_val=pd.DataFrame(pred_val_dic)\n",
    "\n",
    "    pred_train['FLOOR']=pred_train['FLOOR'].astype(int)\n",
    "    pred_train['BUILDINGID']=pred_train[['BUILDING_0','BUILDING_1','BUILDING_2']].idxmax(axis=1)\n",
    "    pred_train['BUILDINGID']=pred_train['BUILDINGID'].apply(lambda x: x[-1])\n",
    "    pred_train=pred_train.drop(['BUILDING_0','BUILDING_1','BUILDING_2'], axis=1)\n",
    "\n",
    "    pred_test['FLOOR']=pred_test['FLOOR'].astype(int)\n",
    "    pred_test['BUILDINGID']=pred_test[['BUILDING_0','BUILDING_1','BUILDING_2']].idxmax(axis=1)\n",
    "    pred_test['BUILDINGID']=pred_test['BUILDINGID'].apply(lambda x: x[-1])\n",
    "    pred_test=pred_test.drop(['BUILDING_0','BUILDING_1','BUILDING_2'], axis=1)\n",
    "\n",
    "    pred_val['FLOOR']=pred_val['FLOOR'].astype(int)\n",
    "    pred_val['BUILDINGID']=pred_val[['BUILDING_0','BUILDING_1','BUILDING_2']].idxmax(axis=1)\n",
    "    pred_val['BUILDINGID']=pred_val['BUILDINGID'].apply(lambda x: x[-1])\n",
    "    pred_val=pred_val.drop(['BUILDING_0','BUILDING_1','BUILDING_2'], axis=1)\n",
    "    \n",
    "    return pred_train, pred_test, pred_val\n"
   ]
  },
  {
   "cell_type": "code",
   "execution_count": 74,
   "metadata": {},
   "outputs": [],
   "source": [
    "def Score_Work(train, test, val, y_train, y_test, y_val):\n",
    "    \n",
    "    print()\n",
    "    print('Total Trained:', len(y_train))\n",
    "    print((train[['FLOOR','BUILDINGID']]==y_train[['FLOOR','BUILDINGID']]).sum()/len(y_train))\n",
    "    total=0\n",
    "    maxx=0\n",
    "    for i in range(y_train.shape[0]):\n",
    "        temp=np.sqrt((train.iloc[i][0]-y_train.iloc[i][0])**2+(train.iloc[i][1]-y_train.iloc[i][1])**2+(train.iloc[i][2]-y_train.iloc[i][2])**2)\n",
    "        total+=temp\n",
    "        maxx=max(maxx,temp)\n",
    "    print('Average Error: %6f' %(total/(i+1)))\n",
    "    print('Max Error: %6f' %maxx)\n",
    "    \n",
    "    print()\n",
    "    print('Total Tested:', len(y_test))\n",
    "    print((test[['FLOOR','BUILDINGID']]==y_test[['FLOOR','BUILDINGID']]).sum()/len(y_test))\n",
    "    total=0\n",
    "    maxx=0\n",
    "    for i in range(y_test.shape[0]):\n",
    "        temp=np.sqrt((test.iloc[i][0]-y_test.iloc[i][0])**2+(test.iloc[i][1]-y_test.iloc[i][1])**2+(test.iloc[i][2]-y_test.iloc[i][2])**2)\n",
    "        total+=temp\n",
    "        maxx=max(maxx,temp)\n",
    "    print('Average Error: %6f' %(total/(i+1)))\n",
    "    print('Max Error: %6f' %maxx)\n",
    "\n",
    "    print()\n",
    "    print('Total Validated:', len(y_val))\n",
    "    print((val[['FLOOR','BUILDINGID']]==y_val[['FLOOR','BUILDINGID']]).sum()/len(y_val))\n",
    "    total=0\n",
    "    maxx=0\n",
    "    for i in range(y_val.shape[0]):\n",
    "        temp=np.sqrt((val.iloc[i][0]-y_val.iloc[i][0])**2+(val.iloc[i][1]-y_val.iloc[i][1])**2+(val.iloc[i][2]-y_val.iloc[i][2])**2)\n",
    "        total+=temp\n",
    "        maxx=max(maxx,temp)\n",
    "    print('Average Error: %6f'  %(total/(i+1)))\n",
    "    print('Max Error: %6f'  %maxx)\n",
    "\n",
    "    return ((val[['FLOOR','BUILDINGID']]==y_val[['FLOOR','BUILDINGID']]).sum()/len(y_val)).tolist()+[total/(i+1),maxx]"
   ]
  },
  {
   "cell_type": "code",
   "execution_count": 75,
   "metadata": {},
   "outputs": [],
   "source": [
    "def Rename_Col(df, text):\n",
    "    for i in df.columns:\n",
    "        df=df.rename(index=str, columns={i: i+text})\n",
    "        \n",
    "    return df"
   ]
  },
  {
   "cell_type": "markdown",
   "metadata": {},
   "source": [
    "We run a few iterations for accuracy of the model. At the end of each run, we will show the performance of base models and the ensemble one. It is clear that the ensemble model has the best scores for each criteria among base models, which is the purpose of itself."
   ]
  },
  {
   "cell_type": "code",
   "execution_count": 78,
   "metadata": {},
   "outputs": [],
   "source": [
    "def main_AD(df_X, df_y, X_val, y_val):\n",
    "    import numpy as np\n",
    "    import pandas as pd\n",
    "    \n",
    "    import time\n",
    "\n",
    "    from sklearn.model_selection import train_test_split\n",
    "    from sklearn.neighbors import KNeighborsRegressor as KNR\n",
    "    from sklearn.linear_model import Ridge\n",
    "    from sklearn.tree import DecisionTreeClassifier as DTC\n",
    "    from sklearn.tree import DecisionTreeRegressor as DTR\n",
    "    from sklearn.ensemble import RandomForestClassifier as RFC\n",
    "    from sklearn.ensemble import RandomForestRegressor as RFR\n",
    "    from sklearn.ensemble import GradientBoostingClassifier as GBC\n",
    "    from sklearn.ensemble import GradientBoostingRegressor as GBR\n",
    "    from sklearn.ensemble import AdaBoostClassifier as ABC\n",
    "    from sklearn.ensemble import AdaBoostRegressor as ABR\n",
    "\n",
    "    limiter=0\n",
    "    n_neighbor=1\n",
    "    p=1\n",
    "    test_size=0.25\n",
    "    max_depth_DT=100\n",
    "    n_estimators=200\n",
    "    max_depth=None\n",
    "    learning_rate=0.2\n",
    "    \n",
    "    score=pd.DataFrame()\n",
    "    \n",
    "    score_col=['LONGITUDE','LATITUDE','FLOOR','BUILDINGID']\n",
    "    \n",
    "    start_time=time.time()\n",
    "    \n",
    "    X_train, X_test, y_train, y_test = Data_Split(df_X, df_y)\n",
    "\n",
    "    train=X_train\n",
    "    test=X_test\n",
    "    val=X_val\n",
    "    \n",
    "    start_time=time.time()\n",
    "    \n",
    "    print('KNN Started.')\n",
    "    a, b, c = KNN_Work(X_train, X_test, X_val, y_train, n_neighbor=n_neighbor, p=p)\n",
    "    score['KNN'] = Score_Work(a, b, c, y_train[score_col], y_test[score_col], y_val[score_col])\n",
    "    a=Rename_Col(a, '_KNN')\n",
    "    b=Rename_Col(b, '_KNN')\n",
    "    c=Rename_Col(c, '_KNN')\n",
    "    train=train.join(a.reset_index()[a.columns])\n",
    "    test=test.join(b.reset_index()[b.columns])\n",
    "    val=val.join(c.reset_index()[c.columns])\n",
    "    print()\n",
    "    print('KNN Done. Time Spend: %.4f sec.' %(time.time()-start_time),'\\n')\n",
    "\n",
    "    start_time=time.time()\n",
    "    \n",
    "    print('Random Forest Started.')\n",
    "    a, b, c = Model_Tree_Work(X_train, X_test, X_val, y_train, model_reg=RFR(n_estimators=n_estimators, max_depth=max_depth), model_clf=RFC(n_estimators=n_estimators, max_depth=max_depth))\n",
    "    score['RF'] = Score_Work(a, b, c, y_train[score_col], y_test[score_col], y_val[score_col])\n",
    "    a=Rename_Col(a, '_RF')\n",
    "    b=Rename_Col(b, '_RF')\n",
    "    c=Rename_Col(c, '_RF')\n",
    "    train=train.join(a.reset_index()[a.columns])\n",
    "    test=test.join(b.reset_index()[b.columns])\n",
    "    val=val.join(c.reset_index()[c.columns])\n",
    "    print()\n",
    "    print('Random Forest done. Time Spend: %.4f sec.' %(time.time()-start_time),'\\n')\n",
    "\n",
    "    start_time=time.time()\n",
    "    \n",
    "    print('Gradient Boost Started.')\n",
    "    a, b, c = Model_Tree_Work(X_train, X_test, X_val, y_train, model_reg=GBR(n_estimators=n_estimators, learning_rate=learning_rate), model_clf=GBC(n_estimators=n_estimators, learning_rate=learning_rate))\n",
    "    score['GB'] = Score_Work(a, b, c, y_train[score_col], y_test[score_col], y_val[score_col])\n",
    "    a=Rename_Col(a, '_GB')\n",
    "    b=Rename_Col(b, '_GB')\n",
    "    c=Rename_Col(c, '_GB')\n",
    "    train=train.join(a.reset_index()[a.columns])\n",
    "    test=test.join(b.reset_index()[b.columns])\n",
    "    val=val.join(c.reset_index()[c.columns])\n",
    "    print()\n",
    "    print('Gradient Boost done. Time Spend: %.4f sec.' %(time.time()-start_time),'\\n')\n",
    "        \n",
    "    start_time=time.time()\n",
    "    \n",
    "    print('XGBoost Started.')\n",
    "    a, b, c = Model_Tree_Work(X_train, X_test, X_val, y_train, model_reg=XGR(n_estimators=n_estimators, learning_rate=learning_rate), model_clf=XGC(n_estimators=n_estimators, learning_rate=learning_rate))\n",
    "    score['XG'] = Score_Work(a, b, c, y_train[score_col], y_test[score_col], y_val[score_col])\n",
    "    a=Rename_Col(a, '_XG')\n",
    "    b=Rename_Col(b, '_XG')\n",
    "    c=Rename_Col(c, '_XG')\n",
    "    train=train.join(a.reset_index()[a.columns])\n",
    "    test=test.join(b.reset_index()[b.columns])\n",
    "    val=val.join(c.reset_index()[c.columns])\n",
    "    print()\n",
    "    print('Gradient Boost done. Time Spend: %.4f sec.' %(time.time()-start_time),'\\n')\n",
    "\n",
    "    start_time=time.time()\n",
    "    \n",
    "    print('Final Ensemble Started.')\n",
    "    a, b, c = Model_Tree_Work(train, test, val, y_train, \n",
    "                              model_reg=ABR(base_estimator=DTR(max_depth=max_depth_DT), n_estimators=n_estimators, learning_rate=learning_rate), \n",
    "                              model_clf=ABC(base_estimator=DTC(max_depth=max_depth_DT), n_estimators=n_estimators, learning_rate=learning_rate))\n",
    "    score['Ensemble'] = Score_Work(a, b, c, y_train[score_col], y_test[score_col], y_val[score_col])\n",
    "    train=train.join(a.reset_index()[a.columns])\n",
    "    test=test.join(b.reset_index()[b.columns])\n",
    "    val=val.join(c.reset_index()[c.columns])\n",
    "    print()\n",
    "    print('Final Ensemble done. Time Spend: %.4f sec.' %(time.time()-start_time),'\\n')\n",
    "\n",
    "    print(score)\n",
    "    return score\n",
    "    \n"
   ]
  },
  {
   "cell_type": "code",
   "execution_count": 79,
   "metadata": {},
   "outputs": [
    {
     "name": "stdout",
     "output_type": "stream",
     "text": [
      "Iteration 1 Started \n",
      "\n",
      "KNN Started.\n",
      "\n",
      "Total Trained: 14952\n",
      "FLOOR         0.99806\n",
      "BUILDINGID    0.99806\n",
      "dtype: float64\n",
      "Average Error: 0.956502\n",
      "Max Error: 333.142710\n",
      "\n",
      "Total Tested: 4985\n",
      "FLOOR         0.996790\n",
      "BUILDINGID    0.998195\n",
      "dtype: float64\n",
      "Average Error: 1.814181\n",
      "Max Error: 224.144655\n",
      "\n",
      "Total Validated: 1111\n",
      "FLOOR         0.891089\n",
      "BUILDINGID    0.983798\n",
      "dtype: float64\n",
      "Average Error: 12.186214\n",
      "Max Error: 335.589136\n",
      "\n",
      "KNN Done. Time Spend: 83.0644 sec. \n",
      "\n",
      "Random Forest Started.\n",
      "\n",
      "Total Trained: 14952\n",
      "FLOOR         0.99806\n",
      "BUILDINGID    0.99806\n",
      "dtype: float64\n",
      "Average Error: 2.155462\n",
      "Max Error: 229.320537\n",
      "\n",
      "Total Tested: 4985\n",
      "FLOOR         0.997593\n",
      "BUILDINGID    0.998195\n",
      "dtype: float64\n",
      "Average Error: 4.123891\n",
      "Max Error: 137.671841\n",
      "\n",
      "Total Validated: 1111\n",
      "FLOOR         0.909091\n",
      "BUILDINGID    0.999100\n",
      "dtype: float64\n",
      "Average Error: 13.205934\n",
      "Max Error: 128.706531\n",
      "\n",
      "Random Forest done. Time Spend: 165.1995 sec. \n",
      "\n",
      "Gradient Boost Started.\n",
      "\n",
      "Total Trained: 14952\n",
      "FLOOR         0.99806\n",
      "BUILDINGID    0.99806\n",
      "dtype: float64\n",
      "Average Error: 12.883898\n",
      "Max Error: 204.388415\n",
      "\n",
      "Total Tested: 4985\n",
      "FLOOR         0.995787\n",
      "BUILDINGID    0.997994\n",
      "dtype: float64\n",
      "Average Error: 13.936713\n",
      "Max Error: 163.310595\n",
      "\n",
      "Total Validated: 1111\n",
      "FLOOR         0.90189\n",
      "BUILDINGID    1.00000\n",
      "dtype: float64\n",
      "Average Error: 26.398453\n",
      "Max Error: 143.441179\n",
      "\n",
      "Gradient Boost done. Time Spend: 177.5032 sec. \n",
      "\n",
      "XGBoost Started.\n",
      "\n",
      "Total Trained: 14952\n",
      "FLOOR         0.997124\n",
      "BUILDINGID    0.998060\n",
      "dtype: float64\n",
      "Average Error: 13.965931\n",
      "Max Error: 200.563729\n",
      "\n",
      "Total Tested: 4985\n",
      "FLOOR         0.994584\n",
      "BUILDINGID    0.997994\n",
      "dtype: float64\n",
      "Average Error: 14.925187\n",
      "Max Error: 166.662941\n",
      "\n",
      "Total Validated: 1111\n",
      "FLOOR         0.90009\n",
      "BUILDINGID    0.99820\n",
      "dtype: float64\n",
      "Average Error: 27.447066\n",
      "Max Error: 154.453017\n",
      "\n",
      "Gradient Boost done. Time Spend: 208.9132 sec. \n",
      "\n",
      "Final Ensemble Started.\n",
      "\n",
      "Total Trained: 14952\n",
      "FLOOR         0.99806\n",
      "BUILDINGID    0.99806\n",
      "dtype: float64\n",
      "Average Error: 0.868031\n",
      "Max Error: 218.178510\n",
      "\n",
      "Total Tested: 4985\n",
      "FLOOR         0.997392\n",
      "BUILDINGID    0.997994\n",
      "dtype: float64\n",
      "Average Error: 1.750900\n",
      "Max Error: 148.377576\n",
      "\n",
      "Total Validated: 1111\n",
      "FLOOR         0.907291\n",
      "BUILDINGID    0.998200\n",
      "dtype: float64\n",
      "Average Error: 10.867002\n",
      "Max Error: 212.281880\n",
      "\n",
      "Final Ensemble done. Time Spend: 126.1357 sec. \n",
      "\n",
      "          KNN          RF          GB          XG    Ensemble\n",
      "0    0.891089    0.909091    0.901890    0.900090    0.907291\n",
      "1    0.983798    0.999100    1.000000    0.998200    0.998200\n",
      "2   12.186214   13.205934   26.398453   27.447066   10.867002\n",
      "3  335.589136  128.706531  143.441179  154.453017  212.281880\n",
      "\n",
      "\n",
      "Iteration 2 Started \n",
      "\n",
      "KNN Started.\n",
      "\n",
      "Total Trained: 14952\n",
      "FLOOR         0.998261\n",
      "BUILDINGID    0.998261\n",
      "dtype: float64\n",
      "Average Error: 0.822705\n",
      "Max Error: 226.399649\n",
      "\n",
      "Total Tested: 4985\n",
      "FLOOR         0.996389\n",
      "BUILDINGID    0.997192\n",
      "dtype: float64\n",
      "Average Error: 2.060086\n",
      "Max Error: 250.589038\n",
      "\n",
      "Total Validated: 1111\n",
      "FLOOR         0.889289\n",
      "BUILDINGID    0.988299\n",
      "dtype: float64\n",
      "Average Error: 11.173574\n",
      "Max Error: 369.467140\n",
      "\n",
      "KNN Done. Time Spend: 81.2874 sec. \n",
      "\n",
      "Random Forest Started.\n",
      "\n",
      "Total Trained: 14952\n",
      "FLOOR         0.998261\n",
      "BUILDINGID    0.998261\n",
      "dtype: float64\n",
      "Average Error: 2.029325\n",
      "Max Error: 137.741042\n",
      "\n",
      "Total Tested: 4985\n",
      "FLOOR         0.995787\n",
      "BUILDINGID    0.997593\n",
      "dtype: float64\n",
      "Average Error: 4.459671\n",
      "Max Error: 231.518999\n",
      "\n",
      "Total Validated: 1111\n",
      "FLOOR         0.910891\n",
      "BUILDINGID    0.999100\n",
      "dtype: float64\n",
      "Average Error: 12.920410\n",
      "Max Error: 163.009851\n",
      "\n",
      "Random Forest done. Time Spend: 162.6668 sec. \n",
      "\n",
      "Gradient Boost Started.\n",
      "\n",
      "Total Trained: 14952\n",
      "FLOOR         0.998261\n",
      "BUILDINGID    0.998261\n",
      "dtype: float64\n",
      "Average Error: 12.686785\n",
      "Max Error: 162.605845\n",
      "\n",
      "Total Tested: 4985\n",
      "FLOOR         0.994383\n",
      "BUILDINGID    0.997392\n",
      "dtype: float64\n",
      "Average Error: 14.212326\n",
      "Max Error: 205.426900\n",
      "\n",
      "Total Validated: 1111\n",
      "FLOOR         0.90099\n",
      "BUILDINGID    0.99820\n",
      "dtype: float64\n",
      "Average Error: 26.122659\n",
      "Max Error: 152.176869\n",
      "\n",
      "Gradient Boost done. Time Spend: 176.4498 sec. \n",
      "\n",
      "XGBoost Started.\n",
      "\n",
      "Total Trained: 14952\n",
      "FLOOR         0.997258\n",
      "BUILDINGID    0.998261\n",
      "dtype: float64\n",
      "Average Error: 14.007493\n",
      "Max Error: 165.689424\n",
      "\n",
      "Total Tested: 4985\n",
      "FLOOR         0.991575\n",
      "BUILDINGID    0.997392\n",
      "dtype: float64\n",
      "Average Error: 15.522047\n",
      "Max Error: 202.505909\n",
      "\n",
      "Total Validated: 1111\n",
      "FLOOR         0.90009\n",
      "BUILDINGID    0.99910\n",
      "dtype: float64\n",
      "Average Error: 27.370645\n",
      "Max Error: 165.967695\n",
      "\n",
      "Gradient Boost done. Time Spend: 209.3119 sec. \n",
      "\n",
      "Final Ensemble Started.\n",
      "\n",
      "Total Trained: 14952\n",
      "FLOOR         0.998261\n",
      "BUILDINGID    0.998261\n",
      "dtype: float64\n",
      "Average Error: 0.795743\n",
      "Max Error: 138.963644\n",
      "\n",
      "Total Tested: 4985\n",
      "FLOOR         0.995988\n",
      "BUILDINGID    0.997392\n",
      "dtype: float64\n",
      "Average Error: 2.100993\n",
      "Max Error: 232.254484\n",
      "\n",
      "Total Validated: 1111\n",
      "FLOOR         0.916292\n",
      "BUILDINGID    0.998200\n",
      "dtype: float64\n",
      "Average Error: 10.407631\n",
      "Max Error: 207.197298\n",
      "\n",
      "Final Ensemble done. Time Spend: 249.0916 sec. \n",
      "\n",
      "          KNN          RF          GB          XG    Ensemble\n",
      "0    0.889289    0.910891    0.900990    0.900090    0.916292\n",
      "1    0.988299    0.999100    0.998200    0.999100    0.998200\n",
      "2   11.173574   12.920410   26.122659   27.370645   10.407631\n",
      "3  369.467140  163.009851  152.176869  165.967695  207.197298\n",
      "\n",
      "\n",
      "[          KNN          RF          GB          XG    Ensemble\n",
      "0    0.891089    0.909091    0.901890    0.900090    0.907291\n",
      "1    0.983798    0.999100    1.000000    0.998200    0.998200\n",
      "2   12.186214   13.205934   26.398453   27.447066   10.867002\n",
      "3  335.589136  128.706531  143.441179  154.453017  212.281880,           KNN          RF          GB          XG    Ensemble\n",
      "0    0.889289    0.910891    0.900990    0.900090    0.916292\n",
      "1    0.988299    0.999100    0.998200    0.999100    0.998200\n",
      "2   11.173574   12.920410   26.122659   27.370645   10.407631\n",
      "3  369.467140  163.009851  152.176869  165.967695  207.197298]\n"
     ]
    }
   ],
   "source": [
    "scores=[]\n",
    "\n",
    "df_X, df_y = Data_Read(filename='trainingData.csv', limiter=limiter)\n",
    "X_val, y_val = Data_Read(filename='ValidationData.csv', limiter=limiter)\n",
    "\n",
    "for i in range(2):\n",
    "    print('Iteration %d Started' %(i+1), '\\n')\n",
    "    scores.append(main_AD(df_X, df_y, X_val, y_val))\n",
    "    print('\\n')\n",
    "\n",
    "print(scores)"
   ]
  },
  {
   "cell_type": "markdown",
   "metadata": {},
   "source": [
    "# Pickles"
   ]
  },
  {
   "cell_type": "markdown",
   "metadata": {},
   "source": [
    "We pickles our model for quick running for future predictions."
   ]
  },
  {
   "cell_type": "code",
   "execution_count": 80,
   "metadata": {},
   "outputs": [],
   "source": [
    "import pickle"
   ]
  },
  {
   "cell_type": "code",
   "execution_count": 81,
   "metadata": {},
   "outputs": [],
   "source": [
    "pickle.dump([model_4_long, model_4_lat], open('try_pickle.pkl', 'wb'))"
   ]
  },
  {
   "cell_type": "code",
   "execution_count": 82,
   "metadata": {},
   "outputs": [],
   "source": [
    "with open('try_pickle.pkl', 'rb') as f:\n",
    "    tt=pickle.load(f)"
   ]
  },
  {
   "cell_type": "code",
   "execution_count": 83,
   "metadata": {},
   "outputs": [
    {
     "data": {
      "text/plain": [
       "array([4865008.41704583, 4864853.31149589, 4864810.75332708, ...,\n",
       "       4865000.10990597, 4864943.08910673, 4864760.20718034])"
      ]
     },
     "execution_count": 83,
     "metadata": {},
     "output_type": "execute_result"
    }
   ],
   "source": [
    "tt[1].predict(X_test)"
   ]
  },
  {
   "cell_type": "code",
   "execution_count": null,
   "metadata": {},
   "outputs": [],
   "source": []
  },
  {
   "cell_type": "markdown",
   "metadata": {},
   "source": [
    "### We further convert the code into two python code, Train.py and Validate.py for direct execution. "
   ]
  },
  {
   "cell_type": "code",
   "execution_count": null,
   "metadata": {},
   "outputs": [],
   "source": []
  }
 ],
 "metadata": {
  "kernelspec": {
   "display_name": "Python 3",
   "language": "python",
   "name": "python3"
  },
  "language_info": {
   "codemirror_mode": {
    "name": "ipython",
    "version": 3
   },
   "file_extension": ".py",
   "mimetype": "text/x-python",
   "name": "python",
   "nbconvert_exporter": "python",
   "pygments_lexer": "ipython3",
   "version": "3.6.8"
  }
 },
 "nbformat": 4,
 "nbformat_minor": 2
}
